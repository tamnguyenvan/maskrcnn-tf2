{
 "cells": [
  {
   "cell_type": "code",
   "execution_count": null,
   "metadata": {},
   "outputs": [],
   "source": [
    "import sys\n",
    "import os\n",
    "sys.path.append(\"./mrcnn_demo\")\n",
    "\n",
    "from m_rcnn import (\n",
    "    extract_images, load_image_dataset,\n",
    "    display_image_samples, CustomConfig,\n",
    "    load_training_model, train_head,\n",
    "    load_test_model\n",
    ")\n",
    "%matplotlib inline"
   ]
  },
  {
   "cell_type": "code",
   "execution_count": null,
   "metadata": {},
   "outputs": [],
   "source": [
    "# Extract Images\n",
    "images_path = \"dataset.zip\"\n",
    "annotations_path = \"annotations.json\"\n",
    "\n",
    "extract_images(os.path.join(\"/content/\",images_path), \"/content/dataset\")"
   ]
  },
  {
   "cell_type": "code",
   "execution_count": null,
   "metadata": {},
   "outputs": [],
   "source": [
    "dataset_train = load_image_dataset(os.path.join(\"/content/\", annotations_path), \"/content/dataset\", \"train\")\n",
    "dataset_val = load_image_dataset(os.path.join(\"/content/\", annotations_path), \"/content/dataset\", \"val\")\n",
    "class_number = dataset_train.count_classes()\n",
    "print('Train: %d' % len(dataset_train.image_ids))\n",
    "print('Validation: %d' % len(dataset_val.image_ids))\n",
    "print(\"Classes: {}\".format(class_number))"
   ]
  },
  {
   "cell_type": "code",
   "execution_count": null,
   "metadata": {},
   "outputs": [],
   "source": [
    "# Load image samples\n",
    "display_image_samples(dataset_train)"
   ]
  },
  {
   "cell_type": "code",
   "execution_count": null,
   "metadata": {},
   "outputs": [],
   "source": [
    "# Load Configuration\n",
    "config = CustomConfig(class_number)\n",
    "# config.display()\n",
    "model = load_training_model(config)"
   ]
  },
  {
   "cell_type": "code",
   "execution_count": null,
   "metadata": {},
   "outputs": [],
   "source": [
    "# Start Training\n",
    "# This operation might take a long time.\n",
    "train_head(model, dataset_train, dataset_train, config)"
   ]
  },
  {
   "cell_type": "code",
   "execution_count": null,
   "metadata": {},
   "outputs": [],
   "source": [
    "# Load Test Model\n",
    "# The latest trained model will be loaded\n",
    "test_model, inference_config = load_test_model(class_number)"
   ]
  }
 ],
 "metadata": {
  "kernelspec": {
   "display_name": "Python 3.10.6 64-bit",
   "language": "python",
   "name": "python3"
  },
  "language_info": {
   "name": "python",
   "version": "3.10.6"
  },
  "orig_nbformat": 4,
  "vscode": {
   "interpreter": {
    "hash": "916dbcbb3f70747c44a77c7bcd40155683ae19c65e1c03b4aa3499c5328201f1"
   }
  }
 },
 "nbformat": 4,
 "nbformat_minor": 2
}
